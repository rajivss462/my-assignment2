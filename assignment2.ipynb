{
 "cells": [
  {
   "cell_type": "markdown",
   "id": "2b15d78c-326c-4a20-aeb3-86569a7ddcb3",
   "metadata": {},
   "source": [
    "Q1. How do you comment code in Python? What are the different types of comments?"
   ]
  },
  {
   "cell_type": "code",
   "execution_count": 4,
   "id": "75ed0c86-7985-42d6-8851-1b5ea4e1ed3a",
   "metadata": {},
   "outputs": [],
   "source": [
    "# single line comment"
   ]
  },
  {
   "cell_type": "code",
   "execution_count": 2,
   "id": "7fd5d345-4a5c-489c-85f2-0473fe7f98fa",
   "metadata": {},
   "outputs": [],
   "source": [
    "i = \"mr sonu singh\""
   ]
  },
  {
   "cell_type": "code",
   "execution_count": 3,
   "id": "a60826aa-6f10-40c2-8b29-6670c6c4a91b",
   "metadata": {},
   "outputs": [
    {
     "name": "stdout",
     "output_type": "stream",
     "text": [
      "mr sonu singh\n"
     ]
    }
   ],
   "source": [
    "print(i)"
   ]
  },
  {
   "cell_type": "code",
   "execution_count": 5,
   "id": "2b1200dd-ce01-4928-ab22-b56d3bca2b80",
   "metadata": {},
   "outputs": [
    {
     "name": "stdout",
     "output_type": "stream",
     "text": [
      "yes is single line\n"
     ]
    }
   ],
   "source": [
    "#print \"yes is single line comment !\" to comment\n",
    "print('yes is single line')"
   ]
  },
  {
   "cell_type": "code",
   "execution_count": 6,
   "id": "7a1e9269-7ebe-4b9b-8502-c51be5bed65f",
   "metadata": {},
   "outputs": [
    {
     "name": "stdout",
     "output_type": "stream",
     "text": [
      "he will have gone\n"
     ]
    }
   ],
   "source": [
    "# you will be creating and seving\n",
    "# he will have gone\n",
    "print('he will have gone')"
   ]
  },
  {
   "cell_type": "code",
   "execution_count": 7,
   "id": "91fb079a-bafb-43fd-a024-d72066e846e1",
   "metadata": {},
   "outputs": [
    {
     "data": {
      "text/plain": [
       "'rahul is going'"
      ]
     },
     "execution_count": 7,
     "metadata": {},
     "output_type": "execute_result"
    }
   ],
   "source": [
    "'rahul is going'"
   ]
  },
  {
   "cell_type": "code",
   "execution_count": 8,
   "id": "ebc58483-cbaf-4275-8f73-42d17e5208e9",
   "metadata": {},
   "outputs": [
    {
     "name": "stdout",
     "output_type": "stream",
     "text": [
      "he read a holly book\n"
     ]
    }
   ],
   "source": [
    "\"\"\"he reads a holly books\n",
    "and prey to god \"\"\"\n",
    "print('he read a holly book')"
   ]
  },
  {
   "cell_type": "markdown",
   "id": "2e51eaaf-6208-4e60-ae9e-48398c2537fc",
   "metadata": {},
   "source": [
    "Q2. What are variables in Python? How do you declare and assign values to variables?"
   ]
  },
  {
   "cell_type": "code",
   "execution_count": 9,
   "id": "26a75a17-a3e1-4afc-af15-31a645fc2612",
   "metadata": {},
   "outputs": [],
   "source": [
    "# answer : variable is asymbolic name that is a reference and pointer to object"
   ]
  },
  {
   "cell_type": "code",
   "execution_count": 10,
   "id": "9772dfa6-c49a-4106-9308-029bba00d04b",
   "metadata": {},
   "outputs": [],
   "source": [
    "rajiv = 5555"
   ]
  },
  {
   "cell_type": "code",
   "execution_count": 11,
   "id": "7994ac35-ecfa-4ce9-91d3-94121fcbecc3",
   "metadata": {},
   "outputs": [
    {
     "data": {
      "text/plain": [
       "int"
      ]
     },
     "execution_count": 11,
     "metadata": {},
     "output_type": "execute_result"
    }
   ],
   "source": [
    "type(rajiv)"
   ]
  },
  {
   "cell_type": "code",
   "execution_count": 13,
   "id": "0943cf29-a6eb-4e5d-977d-9cdedc9a5cc3",
   "metadata": {},
   "outputs": [
    {
     "name": "stdout",
     "output_type": "stream",
     "text": [
      "5555\n"
     ]
    }
   ],
   "source": [
    "print(rajiv)"
   ]
  },
  {
   "cell_type": "code",
   "execution_count": 14,
   "id": "78854c08-d4dd-47a4-b93c-1b41c9acbc2a",
   "metadata": {},
   "outputs": [],
   "source": [
    "mango = \"the mango is sweet\""
   ]
  },
  {
   "cell_type": "code",
   "execution_count": 15,
   "id": "82ecc82a-3f03-469b-89d7-aa0f1811fd12",
   "metadata": {},
   "outputs": [
    {
     "data": {
      "text/plain": [
       "'the mango is sweet'"
      ]
     },
     "execution_count": 15,
     "metadata": {},
     "output_type": "execute_result"
    }
   ],
   "source": [
    "mango"
   ]
  },
  {
   "cell_type": "markdown",
   "id": "32ba196b-4d92-4b34-af31-d1cd9d87b974",
   "metadata": {},
   "source": [
    "Q3. How do you convert one data type to another in Python?"
   ]
  },
  {
   "cell_type": "code",
   "execution_count": 17,
   "id": "261c7348-bfdb-47fc-9fc9-df68a7fa6de4",
   "metadata": {},
   "outputs": [],
   "source": [
    "l = [1,2,3,4,5,\"rajiv\",\"sonu\",23,True]"
   ]
  },
  {
   "cell_type": "code",
   "execution_count": 18,
   "id": "72a73168-3376-42d4-a094-5cc9a4a35be9",
   "metadata": {},
   "outputs": [
    {
     "data": {
      "text/plain": [
       "[1, 2, 3, 4, 5, 'rajiv', 'sonu', 23, True]"
      ]
     },
     "execution_count": 18,
     "metadata": {},
     "output_type": "execute_result"
    }
   ],
   "source": [
    "l"
   ]
  },
  {
   "cell_type": "code",
   "execution_count": 19,
   "id": "7a9c657f-30ae-499b-9d9c-e95703a76e43",
   "metadata": {},
   "outputs": [
    {
     "data": {
      "text/plain": [
       "list"
      ]
     },
     "execution_count": 19,
     "metadata": {},
     "output_type": "execute_result"
    }
   ],
   "source": [
    "type(l)"
   ]
  },
  {
   "cell_type": "code",
   "execution_count": 20,
   "id": "a0eabe70-7de9-46c2-90db-f1c932a0bff9",
   "metadata": {},
   "outputs": [
    {
     "data": {
      "text/plain": [
       "str"
      ]
     },
     "execution_count": 20,
     "metadata": {},
     "output_type": "execute_result"
    }
   ],
   "source": [
    "type(l[5])"
   ]
  },
  {
   "cell_type": "code",
   "execution_count": 22,
   "id": "08bbcf57-257c-4229-9ceb-f5de54c72e2e",
   "metadata": {},
   "outputs": [
    {
     "name": "stdout",
     "output_type": "stream",
     "text": [
      "<class 'int'>\n",
      "<class 'int'>\n",
      "<class 'int'>\n",
      "<class 'int'>\n",
      "<class 'int'>\n",
      "<class 'str'>\n",
      "<class 'str'>\n",
      "<class 'int'>\n",
      "<class 'bool'>\n"
     ]
    }
   ],
   "source": [
    "for i in l :\n",
    "    print(type(i))"
   ]
  },
  {
   "cell_type": "code",
   "execution_count": 23,
   "id": "13c086b9-c239-490f-a913-6b5a39bcbdcd",
   "metadata": {},
   "outputs": [],
   "source": [
    "d = \"rajivkumarsingh\""
   ]
  },
  {
   "cell_type": "code",
   "execution_count": 24,
   "id": "34af91c5-f269-4483-9f3b-33922ab345bf",
   "metadata": {},
   "outputs": [
    {
     "data": {
      "text/plain": [
       "['r', 'a', 'j', 'i', 'v', 'k', 'u', 'm', 'a', 'r', 's', 'i', 'n', 'g', 'h']"
      ]
     },
     "execution_count": 24,
     "metadata": {},
     "output_type": "execute_result"
    }
   ],
   "source": [
    "list(d)"
   ]
  },
  {
   "cell_type": "code",
   "execution_count": 25,
   "id": "6067f497-4073-4d61-b5db-93e186f18fdf",
   "metadata": {},
   "outputs": [],
   "source": [
    "l = [2,3,4,5,'rohan',33.33,False,3+7j]"
   ]
  },
  {
   "cell_type": "code",
   "execution_count": 26,
   "id": "45b28be2-b18c-4f29-8382-86aa0deb1c88",
   "metadata": {},
   "outputs": [
    {
     "data": {
      "text/plain": [
       "[2, 3, 4, 5, 'rohan', 33.33, False, (3+7j)]"
      ]
     },
     "execution_count": 26,
     "metadata": {},
     "output_type": "execute_result"
    }
   ],
   "source": [
    "l"
   ]
  },
  {
   "cell_type": "code",
   "execution_count": 27,
   "id": "b08e9d50-c5f5-4490-9418-a65accd27972",
   "metadata": {},
   "outputs": [],
   "source": [
    "l[3]=400"
   ]
  },
  {
   "cell_type": "code",
   "execution_count": 28,
   "id": "81c7e9a5-2a3b-49a6-a101-3642fc9f5e3b",
   "metadata": {},
   "outputs": [
    {
     "data": {
      "text/plain": [
       "[2, 3, 4, 400, 'rohan', 33.33, False, (3+7j)]"
      ]
     },
     "execution_count": 28,
     "metadata": {},
     "output_type": "execute_result"
    }
   ],
   "source": [
    "l"
   ]
  },
  {
   "cell_type": "markdown",
   "id": "22b27f15-9944-46c5-8d5b-3428779cb4d5",
   "metadata": {},
   "source": [
    "Q4. How do you write and execute a Python script from the command line?"
   ]
  },
  {
   "cell_type": "code",
   "execution_count": null,
   "id": "b8e00938-71a4-4ced-a950-26639170c973",
   "metadata": {},
   "outputs": [],
   "source": [
    "Open a text editor and create a new file. You can use any text editor of your choice, such as Notepad, Sublime Text, Atom, or Visual Studio Code.\n",
    "\n",
    "Write your Python code in the text editor. For example, let's create a simple script that prints \"Hello, World!\":\n",
    "\n",
    "python\n",
    "Copy code\n",
    "# File: hello.py\n",
    "print(\"Hello, World!\")\n",
    "Save the file with a .py extension. In this example, save the file as hello.py. The .py extension indicates that it's a Python script.\n",
    "\n",
    "Open the command line or terminal on your operating system. The method for opening the command line varies depending on your operating system:\n",
    "\n",
    "On Windows, you can press Win + R, type cmd, and press Enter.\n",
    "On macOS, you can press Cmd + Space, type Terminal, and press Enter.\n",
    "On Linux, you can press Ctrl + Alt + T to open the terminal.\n",
    "Navigate to the directory where you saved the Python script using the cd command. For example, if you saved the script in the Documents folder, you would use the following command:\n",
    "\n",
    "bash\n",
    "Copy code\n",
    "cd Documents\n",
    "Once you're in the correct directory, you can execute the Python script using the python command followed by the script's filename. In this case, the command would be:\n",
    "\n",
    "Copy code\n",
    "python hello.py\n",
    "The output, \"Hello, World!\", will be displayed in the terminal."
   ]
  },
  {
   "cell_type": "markdown",
   "id": "39018cc4-1660-407e-8c0b-f11aaee5e3d5",
   "metadata": {},
   "source": [
    "Q5. Given a list my_list = [1, 2, 3, 4, 5], write the code to slice the list and obtain the sub-list [2, 3]."
   ]
  },
  {
   "cell_type": "code",
   "execution_count": 30,
   "id": "e2c15831-c4ed-4b70-9359-b9d2af5fa323",
   "metadata": {},
   "outputs": [],
   "source": [
    "l = [1,2,3,4,5]"
   ]
  },
  {
   "cell_type": "code",
   "execution_count": 31,
   "id": "555c5639-f1f6-4bca-80e2-3e4d153538d2",
   "metadata": {},
   "outputs": [
    {
     "data": {
      "text/plain": [
       "[1, 2, 3, 4, 5]"
      ]
     },
     "execution_count": 31,
     "metadata": {},
     "output_type": "execute_result"
    }
   ],
   "source": [
    "l"
   ]
  },
  {
   "cell_type": "code",
   "execution_count": 32,
   "id": "78d2f1fb-7692-413b-b47c-ce9726a8582d",
   "metadata": {},
   "outputs": [
    {
     "data": {
      "text/plain": [
       "2"
      ]
     },
     "execution_count": 32,
     "metadata": {},
     "output_type": "execute_result"
    }
   ],
   "source": [
    "l[1]"
   ]
  },
  {
   "cell_type": "code",
   "execution_count": 33,
   "id": "f60b96e2-ddd7-4c2b-bce9-ab755446662c",
   "metadata": {},
   "outputs": [
    {
     "data": {
      "text/plain": [
       "3"
      ]
     },
     "execution_count": 33,
     "metadata": {},
     "output_type": "execute_result"
    }
   ],
   "source": [
    "l[2]"
   ]
  },
  {
   "cell_type": "code",
   "execution_count": 34,
   "id": "b3b57c0b-9d67-4c43-9281-b5c09e461140",
   "metadata": {},
   "outputs": [
    {
     "data": {
      "text/plain": [
       "[2, 3]"
      ]
     },
     "execution_count": 34,
     "metadata": {},
     "output_type": "execute_result"
    }
   ],
   "source": [
    "l[1:3]"
   ]
  },
  {
   "cell_type": "markdown",
   "id": "6d272c91-5c89-4aac-8bd7-e376ecd0293d",
   "metadata": {},
   "source": [
    "Q6. What is a complex number in mathematics, and how is it represented in Python?"
   ]
  },
  {
   "cell_type": "code",
   "execution_count": null,
   "id": "5d464bdd-22b2-474e-ab95-20864c7e35f3",
   "metadata": {},
   "outputs": [],
   "source": [
    "complex number in python of = a+bi\n",
    "where ,a,b are real number and i is imaginary number called \"iota\"\n",
    "and python in complex number = 9+7j\n"
   ]
  },
  {
   "cell_type": "markdown",
   "id": "323cb99c-798f-4b3f-83b6-3ae1db5852ac",
   "metadata": {},
   "source": [
    "Q7. What is the correct way to declare a variable named age and assign the value 25 to it?"
   ]
  },
  {
   "cell_type": "code",
   "execution_count": 36,
   "id": "77ee863f-4731-4438-886c-ee01fcf13414",
   "metadata": {},
   "outputs": [],
   "source": [
    "age = 25;"
   ]
  },
  {
   "cell_type": "code",
   "execution_count": 37,
   "id": "47cd0d6c-970c-4a86-8ebe-50f72e624111",
   "metadata": {},
   "outputs": [
    {
     "data": {
      "text/plain": [
       "25"
      ]
     },
     "execution_count": 37,
     "metadata": {},
     "output_type": "execute_result"
    }
   ],
   "source": [
    "age"
   ]
  },
  {
   "cell_type": "markdown",
   "id": "0af709fd-73ea-460c-9efa-56f06c1b6831",
   "metadata": {},
   "source": [
    "Q8. Declare a variable named price and assign the value 9.99 to it. What data type does this variable\n",
    "belong to?"
   ]
  },
  {
   "cell_type": "code",
   "execution_count": 38,
   "id": "64e951a0-9791-4ab3-8525-cee087ef19f0",
   "metadata": {},
   "outputs": [],
   "source": [
    "price = 9.99"
   ]
  },
  {
   "cell_type": "code",
   "execution_count": 39,
   "id": "83f10e37-ec29-4a25-ae5c-9c75004bf8e4",
   "metadata": {},
   "outputs": [
    {
     "data": {
      "text/plain": [
       "9.99"
      ]
     },
     "execution_count": 39,
     "metadata": {},
     "output_type": "execute_result"
    }
   ],
   "source": [
    "price"
   ]
  },
  {
   "cell_type": "code",
   "execution_count": 40,
   "id": "72c07389-18a4-4095-9b8b-1bc061db6df8",
   "metadata": {},
   "outputs": [
    {
     "data": {
      "text/plain": [
       "float"
      ]
     },
     "execution_count": 40,
     "metadata": {},
     "output_type": "execute_result"
    }
   ],
   "source": [
    "type(price)"
   ]
  },
  {
   "cell_type": "code",
   "execution_count": 41,
   "id": "f861464a-bcc1-4b32-9b46-b9fd6aea7c1a",
   "metadata": {},
   "outputs": [
    {
     "data": {
      "text/plain": [
       "float"
      ]
     },
     "execution_count": 41,
     "metadata": {},
     "output_type": "execute_result"
    }
   ],
   "source": [
    "type(9.99)"
   ]
  },
  {
   "cell_type": "markdown",
   "id": "f6839e7d-94fe-476d-918e-fa406c7393c0",
   "metadata": {},
   "source": [
    "Q9. Create a variable named name and assign your full name to it as a string. How would you print the\n",
    "value of this variable?"
   ]
  },
  {
   "cell_type": "code",
   "execution_count": 43,
   "id": "a16debb5-5b46-4e3b-b6d2-4377c80e98ed",
   "metadata": {},
   "outputs": [
    {
     "name": "stdout",
     "output_type": "stream",
     "text": [
      "rajiv kumar singh\n"
     ]
    }
   ],
   "source": [
    "name = \"rajiv kumar singh\"\n",
    "print(name)"
   ]
  },
  {
   "cell_type": "markdown",
   "id": "34341703-5634-4ae6-88c2-4fba1970ba02",
   "metadata": {},
   "source": [
    "Q10. Given the string \"Hello, World!\", extract the substring \"World\"."
   ]
  },
  {
   "cell_type": "code",
   "execution_count": 44,
   "id": "293c1036-48eb-4c39-aacd-ce8ee3092bc5",
   "metadata": {},
   "outputs": [],
   "source": [
    "f = \"hello , world\""
   ]
  },
  {
   "cell_type": "code",
   "execution_count": 45,
   "id": "feb1622d-697f-4d20-ba35-f33dfae572b5",
   "metadata": {},
   "outputs": [
    {
     "data": {
      "text/plain": [
       "'hello , world'"
      ]
     },
     "execution_count": 45,
     "metadata": {},
     "output_type": "execute_result"
    }
   ],
   "source": [
    "f"
   ]
  },
  {
   "cell_type": "code",
   "execution_count": 46,
   "id": "9bc74331-8c19-4ee2-9a98-b45b5e3983ed",
   "metadata": {},
   "outputs": [
    {
     "name": "stdout",
     "output_type": "stream",
     "text": [
      ", world\n"
     ]
    }
   ],
   "source": [
    "f = \"hello , world\"\n",
    "substring = f[6:]\n",
    "print(substring)"
   ]
  },
  {
   "cell_type": "markdown",
   "id": "893191d4-9dbe-4e85-af6c-5cadd15d47d3",
   "metadata": {},
   "source": [
    "Q11. Create a variable named \"is_student\" and assign it a boolean value indicating whether you are\n",
    "currently a student or not."
   ]
  },
  {
   "cell_type": "code",
   "execution_count": 47,
   "id": "ec19e117-ddfc-4980-b666-47e62f47de04",
   "metadata": {},
   "outputs": [],
   "source": [
    "is_student = True"
   ]
  },
  {
   "cell_type": "code",
   "execution_count": 48,
   "id": "99785745-50b0-479f-a049-25c624815cb0",
   "metadata": {},
   "outputs": [
    {
     "data": {
      "text/plain": [
       "bool"
      ]
     },
     "execution_count": 48,
     "metadata": {},
     "output_type": "execute_result"
    }
   ],
   "source": [
    "type(is_student)"
   ]
  },
  {
   "cell_type": "code",
   "execution_count": null,
   "id": "26178baa-42e7-4851-9a42-79c87830ca9d",
   "metadata": {},
   "outputs": [],
   "source": [
    "the variable 'is_student'is assigned the boolean value 'True',\n",
    "indicating that the person associated with this variable is a student .\n",
    "if the person is not a student ,you can assign the value 'False'"
   ]
  },
  {
   "cell_type": "code",
   "execution_count": null,
   "id": "7080c7f9-ec2a-48c0-be0b-069a0aee0521",
   "metadata": {},
   "outputs": [],
   "source": []
  }
 ],
 "metadata": {
  "kernelspec": {
   "display_name": "Python 3 (ipykernel)",
   "language": "python",
   "name": "python3"
  },
  "language_info": {
   "codemirror_mode": {
    "name": "ipython",
    "version": 3
   },
   "file_extension": ".py",
   "mimetype": "text/x-python",
   "name": "python",
   "nbconvert_exporter": "python",
   "pygments_lexer": "ipython3",
   "version": "3.10.8"
  }
 },
 "nbformat": 4,
 "nbformat_minor": 5
}
